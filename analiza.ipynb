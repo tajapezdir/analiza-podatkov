{
 "cells": [
  {
   "cell_type": "markdown",
   "metadata": {},
   "source": [
    "# Analiza knjig\n",
    "\n",
    "\n",
    "Analizirala bom 2400 najboljših knjig s seznama _nekaj_ spletne strani [GoodReads](https://www.goodreads.com/)\n",
    "\n",
    "Sprva bomo naložili zajete podatke:"
   ]
  },
  {
   "cell_type": "code",
   "execution_count": 39,
   "metadata": {},
   "outputs": [],
   "source": [
    "import pandas as pd\n",
    "import os.path\n",
    "\n",
    "pd.options.display.max_rows = 20\n",
    "\n",
    "knjige = pd.read_csv(os.path.join('obdelani-podatki', 'knjige.csv'), index_col='id')\n",
    "zanri = pd.read_csv(os.path.join('obdelani-podatki', 'zanri.csv'))"
   ]
  },
  {
   "cell_type": "markdown",
   "metadata": {},
   "source": [
    "Sprva poglejmo podatke."
   ]
  },
  {
   "cell_type": "code",
   "execution_count": 40,
   "metadata": {},
   "outputs": [
    {
     "data": {
      "text/html": [
       "<div>\n",
       "<style scoped>\n",
       "    .dataframe tbody tr th:only-of-type {\n",
       "        vertical-align: middle;\n",
       "    }\n",
       "\n",
       "    .dataframe tbody tr th {\n",
       "        vertical-align: top;\n",
       "    }\n",
       "\n",
       "    .dataframe thead th {\n",
       "        text-align: right;\n",
       "    }\n",
       "</style>\n",
       "<table border=\"1\" class=\"dataframe\">\n",
       "  <thead>\n",
       "    <tr style=\"text-align: right;\">\n",
       "      <th></th>\n",
       "      <th>avtor</th>\n",
       "      <th>naslov</th>\n",
       "      <th>ocena</th>\n",
       "      <th>glasovi</th>\n",
       "      <th>strani</th>\n",
       "      <th>leto</th>\n",
       "      <th>serija</th>\n",
       "    </tr>\n",
       "    <tr>\n",
       "      <th>id</th>\n",
       "      <th></th>\n",
       "      <th></th>\n",
       "      <th></th>\n",
       "      <th></th>\n",
       "      <th></th>\n",
       "      <th></th>\n",
       "      <th></th>\n",
       "    </tr>\n",
       "  </thead>\n",
       "  <tbody>\n",
       "    <tr>\n",
       "      <th>1</th>\n",
       "      <td>Suzanne Collins</td>\n",
       "      <td>The Hunger Games (The Hunger Games, #1)</td>\n",
       "      <td>4.32</td>\n",
       "      <td>6589817</td>\n",
       "      <td>374.0</td>\n",
       "      <td>2008</td>\n",
       "      <td>True</td>\n",
       "    </tr>\n",
       "    <tr>\n",
       "      <th>2</th>\n",
       "      <td>J.K. Rowling</td>\n",
       "      <td>Harry Potter and the Order of the Phoenix (Har...</td>\n",
       "      <td>4.50</td>\n",
       "      <td>2608155</td>\n",
       "      <td>870.0</td>\n",
       "      <td>2003</td>\n",
       "      <td>True</td>\n",
       "    </tr>\n",
       "    <tr>\n",
       "      <th>3</th>\n",
       "      <td>Harper Lee</td>\n",
       "      <td>To Kill a Mockingbird</td>\n",
       "      <td>4.28</td>\n",
       "      <td>4673257</td>\n",
       "      <td>324.0</td>\n",
       "      <td>1960</td>\n",
       "      <td>False</td>\n",
       "    </tr>\n",
       "    <tr>\n",
       "      <th>4</th>\n",
       "      <td>Jane Austen</td>\n",
       "      <td>Pride and Prejudice</td>\n",
       "      <td>4.27</td>\n",
       "      <td>3108362</td>\n",
       "      <td>279.0</td>\n",
       "      <td>1813</td>\n",
       "      <td>False</td>\n",
       "    </tr>\n",
       "    <tr>\n",
       "      <th>5</th>\n",
       "      <td>Stephenie Meyer</td>\n",
       "      <td>Twilight (Twilight, #1)</td>\n",
       "      <td>3.61</td>\n",
       "      <td>5131640</td>\n",
       "      <td>501.0</td>\n",
       "      <td>2005</td>\n",
       "      <td>True</td>\n",
       "    </tr>\n",
       "    <tr>\n",
       "      <th>...</th>\n",
       "      <td>...</td>\n",
       "      <td>...</td>\n",
       "      <td>...</td>\n",
       "      <td>...</td>\n",
       "      <td>...</td>\n",
       "      <td>...</td>\n",
       "      <td>...</td>\n",
       "    </tr>\n",
       "    <tr>\n",
       "      <th>2394</th>\n",
       "      <td>Colleen Hoover</td>\n",
       "      <td>Never Never (Never Never, #1)</td>\n",
       "      <td>4.06</td>\n",
       "      <td>72574</td>\n",
       "      <td>300.0</td>\n",
       "      <td>2015</td>\n",
       "      <td>True</td>\n",
       "    </tr>\n",
       "    <tr>\n",
       "      <th>2397</th>\n",
       "      <td>Brandon Mull</td>\n",
       "      <td>Keys to the Demon Prison (Fablehaven, #5)</td>\n",
       "      <td>4.44</td>\n",
       "      <td>71900</td>\n",
       "      <td>593.0</td>\n",
       "      <td>2010</td>\n",
       "      <td>True</td>\n",
       "    </tr>\n",
       "    <tr>\n",
       "      <th>2397</th>\n",
       "      <td>Tana French</td>\n",
       "      <td>The Likeness (Dublin Murder Squad, #2)</td>\n",
       "      <td>4.05</td>\n",
       "      <td>132533</td>\n",
       "      <td>466.0</td>\n",
       "      <td>2008</td>\n",
       "      <td>True</td>\n",
       "    </tr>\n",
       "    <tr>\n",
       "      <th>2399</th>\n",
       "      <td>P.G. Wodehouse</td>\n",
       "      <td>My Man Jeeves (Jeeves, #1)</td>\n",
       "      <td>4.09</td>\n",
       "      <td>36128</td>\n",
       "      <td>256.0</td>\n",
       "      <td>1919</td>\n",
       "      <td>True</td>\n",
       "    </tr>\n",
       "    <tr>\n",
       "      <th>2399</th>\n",
       "      <td>Sherrilyn Kenyon</td>\n",
       "      <td>Night Embrace (Dark-Hunter, #2)</td>\n",
       "      <td>4.23</td>\n",
       "      <td>56727</td>\n",
       "      <td>408.0</td>\n",
       "      <td>2003</td>\n",
       "      <td>True</td>\n",
       "    </tr>\n",
       "  </tbody>\n",
       "</table>\n",
       "<p>2400 rows × 7 columns</p>\n",
       "</div>"
      ],
      "text/plain": [
       "                 avtor                                             naslov  \\\n",
       "id                                                                          \n",
       "1      Suzanne Collins            The Hunger Games (The Hunger Games, #1)   \n",
       "2         J.K. Rowling  Harry Potter and the Order of the Phoenix (Har...   \n",
       "3           Harper Lee                              To Kill a Mockingbird   \n",
       "4          Jane Austen                                Pride and Prejudice   \n",
       "5      Stephenie Meyer                            Twilight (Twilight, #1)   \n",
       "...                ...                                                ...   \n",
       "2394    Colleen Hoover                      Never Never (Never Never, #1)   \n",
       "2397      Brandon Mull          Keys to the Demon Prison (Fablehaven, #5)   \n",
       "2397       Tana French             The Likeness (Dublin Murder Squad, #2)   \n",
       "2399    P.G. Wodehouse                         My Man Jeeves (Jeeves, #1)   \n",
       "2399  Sherrilyn Kenyon                    Night Embrace (Dark-Hunter, #2)   \n",
       "\n",
       "      ocena  glasovi  strani  leto  serija  \n",
       "id                                          \n",
       "1      4.32  6589817   374.0  2008    True  \n",
       "2      4.50  2608155   870.0  2003    True  \n",
       "3      4.28  4673257   324.0  1960   False  \n",
       "4      4.27  3108362   279.0  1813   False  \n",
       "5      3.61  5131640   501.0  2005    True  \n",
       "...     ...      ...     ...   ...     ...  \n",
       "2394   4.06    72574   300.0  2015    True  \n",
       "2397   4.44    71900   593.0  2010    True  \n",
       "2397   4.05   132533   466.0  2008    True  \n",
       "2399   4.09    36128   256.0  1919    True  \n",
       "2399   4.23    56727   408.0  2003    True  \n",
       "\n",
       "[2400 rows x 7 columns]"
      ]
     },
     "execution_count": 40,
     "metadata": {},
     "output_type": "execute_result"
    }
   ],
   "source": [
    "knjige"
   ]
  },
  {
   "cell_type": "markdown",
   "metadata": {},
   "source": [
    "## 1. osnovni podatki\n",
    "\n",
    "Najprej poglejmo, kakšno je povprečje glasov, strani in ocen, da bomo kasneje lažje ocenili, kako rezultati odstopajo od povprečja. Poglejmo tudi maksimalne in minimalne vrednosti."
   ]
  },
  {
   "cell_type": "code",
   "execution_count": 10,
   "metadata": {},
   "outputs": [
    {
     "data": {
      "text/plain": [
       "ocena           4.07\n",
       "glasovi    230770.65\n",
       "strani        417.38\n",
       "dtype: float64"
      ]
     },
     "execution_count": 10,
     "metadata": {},
     "output_type": "execute_result"
    }
   ],
   "source": [
    "round(knjige[['ocena', 'glasovi', 'strani']].mean(), 2)"
   ]
  },
  {
   "cell_type": "code",
   "execution_count": 11,
   "metadata": {},
   "outputs": [
    {
     "data": {
      "text/plain": [
       "ocena            4.82\n",
       "glasovi    7362544.00\n",
       "strani        5216.00\n",
       "dtype: float64"
      ]
     },
     "execution_count": 11,
     "metadata": {},
     "output_type": "execute_result"
    }
   ],
   "source": [
    "knjige[['ocena', 'glasovi', 'strani']].max()"
   ]
  },
  {
   "cell_type": "markdown",
   "metadata": {},
   "source": [
    "Največje število strani se nam zdi previsoko. Preverimo katere knjige imajo zelo visoko število strani."
   ]
  },
  {
   "cell_type": "code",
   "execution_count": 44,
   "metadata": {},
   "outputs": [
    {
     "data": {
      "text/html": [
       "<div>\n",
       "<style scoped>\n",
       "    .dataframe tbody tr th:only-of-type {\n",
       "        vertical-align: middle;\n",
       "    }\n",
       "\n",
       "    .dataframe tbody tr th {\n",
       "        vertical-align: top;\n",
       "    }\n",
       "\n",
       "    .dataframe thead th {\n",
       "        text-align: right;\n",
       "    }\n",
       "</style>\n",
       "<table border=\"1\" class=\"dataframe\">\n",
       "  <thead>\n",
       "    <tr style=\"text-align: right;\">\n",
       "      <th></th>\n",
       "      <th>avtor</th>\n",
       "      <th>naslov</th>\n",
       "      <th>ocena</th>\n",
       "      <th>glasovi</th>\n",
       "      <th>strani</th>\n",
       "      <th>leto</th>\n",
       "      <th>serija</th>\n",
       "    </tr>\n",
       "    <tr>\n",
       "      <th>id</th>\n",
       "      <th></th>\n",
       "      <th></th>\n",
       "      <th></th>\n",
       "      <th></th>\n",
       "      <th></th>\n",
       "      <th></th>\n",
       "      <th></th>\n",
       "    </tr>\n",
       "  </thead>\n",
       "  <tbody>\n",
       "    <tr>\n",
       "      <th>9</th>\n",
       "      <td>J.R.R. Tolkien</td>\n",
       "      <td>J.R.R. Tolkien 4-Book Boxed Set: The Hobbit an...</td>\n",
       "      <td>4.60</td>\n",
       "      <td>113229</td>\n",
       "      <td>1728.0</td>\n",
       "      <td>1955</td>\n",
       "      <td>False</td>\n",
       "    </tr>\n",
       "    <tr>\n",
       "      <th>144</th>\n",
       "      <td>Laura Ingalls Wilder</td>\n",
       "      <td>The Little House Collection (Little House, #1-9)</td>\n",
       "      <td>4.34</td>\n",
       "      <td>143786</td>\n",
       "      <td>2700.0</td>\n",
       "      <td>1971</td>\n",
       "      <td>True</td>\n",
       "    </tr>\n",
       "    <tr>\n",
       "      <th>286</th>\n",
       "      <td>Arthur Conan Doyle</td>\n",
       "      <td>The Complete Sherlock Holmes</td>\n",
       "      <td>4.47</td>\n",
       "      <td>179722</td>\n",
       "      <td>1796.0</td>\n",
       "      <td>1927</td>\n",
       "      <td>False</td>\n",
       "    </tr>\n",
       "    <tr>\n",
       "      <th>409</th>\n",
       "      <td>J.K. Rowling</td>\n",
       "      <td>Harry Potter Series Box Set (Harry Potter, #1-7)</td>\n",
       "      <td>4.72</td>\n",
       "      <td>258358</td>\n",
       "      <td>4100.0</td>\n",
       "      <td>2007</td>\n",
       "      <td>True</td>\n",
       "    </tr>\n",
       "    <tr>\n",
       "      <th>480</th>\n",
       "      <td>Stephenie Meyer</td>\n",
       "      <td>The Twilight Collection (Twilight, #1-3)</td>\n",
       "      <td>3.80</td>\n",
       "      <td>44105</td>\n",
       "      <td>1690.0</td>\n",
       "      <td>2007</td>\n",
       "      <td>True</td>\n",
       "    </tr>\n",
       "    <tr>\n",
       "      <th>921</th>\n",
       "      <td>Robert Musil</td>\n",
       "      <td>The Man Without Qualities</td>\n",
       "      <td>4.23</td>\n",
       "      <td>5760</td>\n",
       "      <td>1774.0</td>\n",
       "      <td>1930</td>\n",
       "      <td>False</td>\n",
       "    </tr>\n",
       "    <tr>\n",
       "      <th>1107</th>\n",
       "      <td>L.M. Montgomery</td>\n",
       "      <td>The Complete Anne of Green Gables Boxed Set (A...</td>\n",
       "      <td>4.44</td>\n",
       "      <td>101739</td>\n",
       "      <td>2088.0</td>\n",
       "      <td>1908</td>\n",
       "      <td>True</td>\n",
       "    </tr>\n",
       "    <tr>\n",
       "      <th>1133</th>\n",
       "      <td>E.L. James</td>\n",
       "      <td>Fifty Shades Trilogy (Fifty Shades, #1-3)</td>\n",
       "      <td>4.11</td>\n",
       "      <td>115162</td>\n",
       "      <td>1859.0</td>\n",
       "      <td>2005</td>\n",
       "      <td>True</td>\n",
       "    </tr>\n",
       "    <tr>\n",
       "      <th>1319</th>\n",
       "      <td>Christopher Paolini</td>\n",
       "      <td>Eragon, Eldest &amp;amp; Brisingr (Inheritance, #1-3)</td>\n",
       "      <td>4.23</td>\n",
       "      <td>32537</td>\n",
       "      <td>1952.0</td>\n",
       "      <td>2008</td>\n",
       "      <td>True</td>\n",
       "    </tr>\n",
       "    <tr>\n",
       "      <th>1600</th>\n",
       "      <td>Marcel Proust</td>\n",
       "      <td>In Search of Lost Time (6 Volumes)</td>\n",
       "      <td>4.35</td>\n",
       "      <td>10145</td>\n",
       "      <td>4211.0</td>\n",
       "      <td>1927</td>\n",
       "      <td>False</td>\n",
       "    </tr>\n",
       "    <tr>\n",
       "      <th>1694</th>\n",
       "      <td>George R.R. Martin</td>\n",
       "      <td>A Song of Ice and Fire (A Song of Ice and Fire...</td>\n",
       "      <td>4.55</td>\n",
       "      <td>55028</td>\n",
       "      <td>5216.0</td>\n",
       "      <td>2000</td>\n",
       "      <td>True</td>\n",
       "    </tr>\n",
       "    <tr>\n",
       "      <th>1773</th>\n",
       "      <td>William L. Shirer</td>\n",
       "      <td>The Rise and Fall of the Third Reich: A Histor...</td>\n",
       "      <td>4.16</td>\n",
       "      <td>106215</td>\n",
       "      <td>1614.0</td>\n",
       "      <td>1960</td>\n",
       "      <td>False</td>\n",
       "    </tr>\n",
       "    <tr>\n",
       "      <th>2008</th>\n",
       "      <td>Shelby Foote</td>\n",
       "      <td>The Civil War: A Narrative</td>\n",
       "      <td>4.53</td>\n",
       "      <td>7029</td>\n",
       "      <td>2934.0</td>\n",
       "      <td>1963</td>\n",
       "      <td>False</td>\n",
       "    </tr>\n",
       "    <tr>\n",
       "      <th>2334</th>\n",
       "      <td>J.K. Rowling</td>\n",
       "      <td>Harry Potter Collection (Harry Potter, #1-6)</td>\n",
       "      <td>4.73</td>\n",
       "      <td>31187</td>\n",
       "      <td>3342.0</td>\n",
       "      <td>2005</td>\n",
       "      <td>True</td>\n",
       "    </tr>\n",
       "    <tr>\n",
       "      <th>2385</th>\n",
       "      <td>Eliezer Yudkowsky</td>\n",
       "      <td>Harry Potter and the Methods of Rationality</td>\n",
       "      <td>4.39</td>\n",
       "      <td>13957</td>\n",
       "      <td>2184.0</td>\n",
       "      <td>2015</td>\n",
       "      <td>False</td>\n",
       "    </tr>\n",
       "  </tbody>\n",
       "</table>\n",
       "</div>"
      ],
      "text/plain": [
       "                     avtor                                             naslov  \\\n",
       "id                                                                              \n",
       "9           J.R.R. Tolkien  J.R.R. Tolkien 4-Book Boxed Set: The Hobbit an...   \n",
       "144   Laura Ingalls Wilder   The Little House Collection (Little House, #1-9)   \n",
       "286     Arthur Conan Doyle                       The Complete Sherlock Holmes   \n",
       "409           J.K. Rowling   Harry Potter Series Box Set (Harry Potter, #1-7)   \n",
       "480        Stephenie Meyer           The Twilight Collection (Twilight, #1-3)   \n",
       "921           Robert Musil                          The Man Without Qualities   \n",
       "1107       L.M. Montgomery  The Complete Anne of Green Gables Boxed Set (A...   \n",
       "1133            E.L. James          Fifty Shades Trilogy (Fifty Shades, #1-3)   \n",
       "1319   Christopher Paolini  Eragon, Eldest &amp; Brisingr (Inheritance, #1-3)   \n",
       "1600         Marcel Proust                 In Search of Lost Time (6 Volumes)   \n",
       "1694    George R.R. Martin  A Song of Ice and Fire (A Song of Ice and Fire...   \n",
       "1773     William L. Shirer  The Rise and Fall of the Third Reich: A Histor...   \n",
       "2008          Shelby Foote                         The Civil War: A Narrative   \n",
       "2334          J.K. Rowling       Harry Potter Collection (Harry Potter, #1-6)   \n",
       "2385     Eliezer Yudkowsky        Harry Potter and the Methods of Rationality   \n",
       "\n",
       "      ocena  glasovi  strani  leto  serija  \n",
       "id                                          \n",
       "9      4.60   113229  1728.0  1955   False  \n",
       "144    4.34   143786  2700.0  1971    True  \n",
       "286    4.47   179722  1796.0  1927   False  \n",
       "409    4.72   258358  4100.0  2007    True  \n",
       "480    3.80    44105  1690.0  2007    True  \n",
       "921    4.23     5760  1774.0  1930   False  \n",
       "1107   4.44   101739  2088.0  1908    True  \n",
       "1133   4.11   115162  1859.0  2005    True  \n",
       "1319   4.23    32537  1952.0  2008    True  \n",
       "1600   4.35    10145  4211.0  1927   False  \n",
       "1694   4.55    55028  5216.0  2000    True  \n",
       "1773   4.16   106215  1614.0  1960   False  \n",
       "2008   4.53     7029  2934.0  1963   False  \n",
       "2334   4.73    31187  3342.0  2005    True  \n",
       "2385   4.39    13957  2184.0  2015   False  "
      ]
     },
     "execution_count": 44,
     "metadata": {},
     "output_type": "execute_result"
    }
   ],
   "source": [
    "knjige[(knjige.strani > 1600)]"
   ]
  },
  {
   "cell_type": "markdown",
   "metadata": {},
   "source": [
    "Število strani je tako visoko, ker je v enem naslovu združena cela serija knjig. Teh knjig v prihodnje ne bomo obravnavali, saj imamo knjige iz serij zabeležene tudi posamično."
   ]
  },
  {
   "cell_type": "code",
   "execution_count": 12,
   "metadata": {},
   "outputs": [
    {
     "data": {
      "text/plain": [
       "ocena       3.11\n",
       "glasovi    38.00\n",
       "strani      0.00\n",
       "dtype: float64"
      ]
     },
     "execution_count": 12,
     "metadata": {},
     "output_type": "execute_result"
    }
   ],
   "source": [
    "knjige[['ocena', 'glasovi', 'strani']].min()"
   ]
  },
  {
   "cell_type": "markdown",
   "metadata": {},
   "source": [
    "Zmoti nas, da imajo nekatere knjige 0 strani. To se je zgodilo, ker nekatere knjige na spletni strani nimajo zabeleženih strani knjige. Preverimo, koliko je takih knjig."
   ]
  },
  {
   "cell_type": "code",
   "execution_count": 19,
   "metadata": {},
   "outputs": [
    {
     "data": {
      "text/html": [
       "<div>\n",
       "<style scoped>\n",
       "    .dataframe tbody tr th:only-of-type {\n",
       "        vertical-align: middle;\n",
       "    }\n",
       "\n",
       "    .dataframe tbody tr th {\n",
       "        vertical-align: top;\n",
       "    }\n",
       "\n",
       "    .dataframe thead th {\n",
       "        text-align: right;\n",
       "    }\n",
       "</style>\n",
       "<table border=\"1\" class=\"dataframe\">\n",
       "  <thead>\n",
       "    <tr style=\"text-align: right;\">\n",
       "      <th></th>\n",
       "      <th>avtor</th>\n",
       "      <th>naslov</th>\n",
       "      <th>ocena</th>\n",
       "      <th>glasovi</th>\n",
       "      <th>strani</th>\n",
       "      <th>leto</th>\n",
       "      <th>serija</th>\n",
       "    </tr>\n",
       "    <tr>\n",
       "      <th>id</th>\n",
       "      <th></th>\n",
       "      <th></th>\n",
       "      <th></th>\n",
       "      <th></th>\n",
       "      <th></th>\n",
       "      <th></th>\n",
       "      <th></th>\n",
       "    </tr>\n",
       "  </thead>\n",
       "  <tbody>\n",
       "    <tr>\n",
       "      <th>1503</th>\n",
       "      <td>Ayn Rand</td>\n",
       "      <td>Atlas Shrugged &amp;amp; The Fountainhead</td>\n",
       "      <td>4.1</td>\n",
       "      <td>4575</td>\n",
       "      <td>0.0</td>\n",
       "      <td>1995</td>\n",
       "      <td>False</td>\n",
       "    </tr>\n",
       "  </tbody>\n",
       "</table>\n",
       "</div>"
      ],
      "text/plain": [
       "         avtor                                 naslov  ocena  glasovi  strani  \\\n",
       "id                                                                              \n",
       "1503  Ayn Rand  Atlas Shrugged &amp; The Fountainhead    4.1     4575     0.0   \n",
       "\n",
       "      leto  serija  \n",
       "id                  \n",
       "1503  1995   False  "
      ]
     },
     "execution_count": 19,
     "metadata": {},
     "output_type": "execute_result"
    }
   ],
   "source": [
    "knjige[(knjige.strani == 0)]"
   ]
  },
  {
   "cell_type": "markdown",
   "metadata": {},
   "source": [
    "Sedaj dodatno prefiltriramo podatke."
   ]
  },
  {
   "cell_type": "code",
   "execution_count": 54,
   "metadata": {},
   "outputs": [],
   "source": [
    "knjige = knjige[(knjige.strani > 0) & (knjige.strani < 1600)]"
   ]
  },
  {
   "cell_type": "markdown",
   "metadata": {},
   "source": [
    "Sedaj se lotimo prvega vprašanja. Kateri avtor je najbolj priljubljen. Preverili bomo torej, kateri avtor se je na seznamu pojavil največkrat. Predpostavimo, da je to Stephen King, saj ima dolgoletno kariero, širok opus, veliko njegovih del pa je bilo adaptiranih za film, kar je njegova dela spoznalo še s širšim občinstvom."
   ]
  },
  {
   "cell_type": "code",
   "execution_count": 59,
   "metadata": {},
   "outputs": [
    {
     "data": {
      "text/plain": [
       "avtor\n",
       "Stephen King           34\n",
       "Terry Pratchett        22\n",
       "Rick Riordan           19\n",
       "Nicholas Sparks        17\n",
       "William Shakespeare    16\n",
       "dtype: int64"
      ]
     },
     "execution_count": 59,
     "metadata": {},
     "output_type": "execute_result"
    }
   ],
   "source": [
    "po_avtorjih = knjige.groupby('avtor')\n",
    "po_avtorjih.size().sort_values(ascending=False).head(5)"
   ]
  },
  {
   "cell_type": "markdown",
   "metadata": {},
   "source": [
    "Rezultat ni presenetljiv. Vsi avotrji so napisali ogromno knjig, ki so bile v veliko primerih upodobljene v film."
   ]
  },
  {
   "cell_type": "markdown",
   "metadata": {},
   "source": [
    "## 2. Analiza gledo na leto"
   ]
  },
  {
   "cell_type": "code",
   "execution_count": null,
   "metadata": {},
   "outputs": [],
   "source": []
  }
 ],
 "metadata": {
  "kernelspec": {
   "display_name": "Python 3",
   "language": "python",
   "name": "python3"
  },
  "language_info": {
   "codemirror_mode": {
    "name": "ipython",
    "version": 3
   },
   "file_extension": ".py",
   "mimetype": "text/x-python",
   "name": "python",
   "nbconvert_exporter": "python",
   "pygments_lexer": "ipython3",
   "version": "3.8.1"
  }
 },
 "nbformat": 4,
 "nbformat_minor": 2
}
