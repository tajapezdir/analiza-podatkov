{
 "cells": [
  {
   "cell_type": "markdown",
   "metadata": {},
   "source": [
    "# Analiza knjig\n",
    "\n",
    "\n",
    "Analizirala bom 2400 najboljših knjig s seznama [Best Books ever](https://www.goodreads.com/list/show/1.Best_Books_Ever?page=1), ki so ga izglasovali uporabniki spletne strani [GoodReads](https://www.goodreads.com/). Na spletni strani obstaja veliko takih seznamov, vendar so v grobem zelo podobni.\n",
    "\n",
    "Sprva bomo naložili zajete podatke:"
   ]
  },
  {
   "cell_type": "code",
   "execution_count": 2,
   "metadata": {},
   "outputs": [],
   "source": [
    "import pandas as pd\n",
    "import os.path\n",
    "\n",
    "pd.options.display.max_rows = 20\n",
    "\n",
    "knjige = pd.read_csv(os.path.join('obdelani-podatki', 'knjige.csv'), index_col='id')\n",
    "zanri = pd.read_csv(os.path.join('obdelani-podatki', 'zanri.csv'))"
   ]
  },
  {
   "cell_type": "markdown",
   "metadata": {},
   "source": [
    "Poglejmo podatke. Zajeli smo:\n",
    "* avotrja,\n",
    "* naslov,\n",
    "* oceno,\n",
    "* število glasov,\n",
    "* število strani,\n",
    "* leto,\n",
    "* ali je del serije\n",
    "\n",
    "V ločeni datoteki pa je zajetih pet žanrov za posamezno knjigo."
   ]
  },
  {
   "cell_type": "code",
   "execution_count": 3,
   "metadata": {},
   "outputs": [
    {
     "data": {
      "text/html": [
       "<div>\n",
       "<style scoped>\n",
       "    .dataframe tbody tr th:only-of-type {\n",
       "        vertical-align: middle;\n",
       "    }\n",
       "\n",
       "    .dataframe tbody tr th {\n",
       "        vertical-align: top;\n",
       "    }\n",
       "\n",
       "    .dataframe thead th {\n",
       "        text-align: right;\n",
       "    }\n",
       "</style>\n",
       "<table border=\"1\" class=\"dataframe\">\n",
       "  <thead>\n",
       "    <tr style=\"text-align: right;\">\n",
       "      <th></th>\n",
       "      <th>avtor</th>\n",
       "      <th>naslov</th>\n",
       "      <th>ocena</th>\n",
       "      <th>glasovi</th>\n",
       "      <th>strani</th>\n",
       "      <th>leto</th>\n",
       "      <th>serija</th>\n",
       "    </tr>\n",
       "    <tr>\n",
       "      <th>id</th>\n",
       "      <th></th>\n",
       "      <th></th>\n",
       "      <th></th>\n",
       "      <th></th>\n",
       "      <th></th>\n",
       "      <th></th>\n",
       "      <th></th>\n",
       "    </tr>\n",
       "  </thead>\n",
       "  <tbody>\n",
       "    <tr>\n",
       "      <th>1</th>\n",
       "      <td>Suzanne Collins</td>\n",
       "      <td>The Hunger Games (The Hunger Games, #1)</td>\n",
       "      <td>4.32</td>\n",
       "      <td>6589817</td>\n",
       "      <td>374.0</td>\n",
       "      <td>2008</td>\n",
       "      <td>True</td>\n",
       "    </tr>\n",
       "    <tr>\n",
       "      <th>2</th>\n",
       "      <td>J.K. Rowling</td>\n",
       "      <td>Harry Potter and the Order of the Phoenix (Har...</td>\n",
       "      <td>4.50</td>\n",
       "      <td>2608155</td>\n",
       "      <td>870.0</td>\n",
       "      <td>2003</td>\n",
       "      <td>True</td>\n",
       "    </tr>\n",
       "    <tr>\n",
       "      <th>3</th>\n",
       "      <td>Harper Lee</td>\n",
       "      <td>To Kill a Mockingbird</td>\n",
       "      <td>4.28</td>\n",
       "      <td>4673257</td>\n",
       "      <td>324.0</td>\n",
       "      <td>1960</td>\n",
       "      <td>False</td>\n",
       "    </tr>\n",
       "    <tr>\n",
       "      <th>4</th>\n",
       "      <td>Jane Austen</td>\n",
       "      <td>Pride and Prejudice</td>\n",
       "      <td>4.27</td>\n",
       "      <td>3108362</td>\n",
       "      <td>279.0</td>\n",
       "      <td>1813</td>\n",
       "      <td>False</td>\n",
       "    </tr>\n",
       "    <tr>\n",
       "      <th>5</th>\n",
       "      <td>Stephenie Meyer</td>\n",
       "      <td>Twilight (Twilight, #1)</td>\n",
       "      <td>3.61</td>\n",
       "      <td>5131640</td>\n",
       "      <td>501.0</td>\n",
       "      <td>2005</td>\n",
       "      <td>True</td>\n",
       "    </tr>\n",
       "    <tr>\n",
       "      <th>...</th>\n",
       "      <td>...</td>\n",
       "      <td>...</td>\n",
       "      <td>...</td>\n",
       "      <td>...</td>\n",
       "      <td>...</td>\n",
       "      <td>...</td>\n",
       "      <td>...</td>\n",
       "    </tr>\n",
       "    <tr>\n",
       "      <th>2394</th>\n",
       "      <td>Colleen Hoover</td>\n",
       "      <td>Never Never (Never Never, #1)</td>\n",
       "      <td>4.06</td>\n",
       "      <td>72574</td>\n",
       "      <td>300.0</td>\n",
       "      <td>2015</td>\n",
       "      <td>True</td>\n",
       "    </tr>\n",
       "    <tr>\n",
       "      <th>2397</th>\n",
       "      <td>Brandon Mull</td>\n",
       "      <td>Keys to the Demon Prison (Fablehaven, #5)</td>\n",
       "      <td>4.44</td>\n",
       "      <td>71900</td>\n",
       "      <td>593.0</td>\n",
       "      <td>2010</td>\n",
       "      <td>True</td>\n",
       "    </tr>\n",
       "    <tr>\n",
       "      <th>2397</th>\n",
       "      <td>Tana French</td>\n",
       "      <td>The Likeness (Dublin Murder Squad, #2)</td>\n",
       "      <td>4.05</td>\n",
       "      <td>132533</td>\n",
       "      <td>466.0</td>\n",
       "      <td>2008</td>\n",
       "      <td>True</td>\n",
       "    </tr>\n",
       "    <tr>\n",
       "      <th>2399</th>\n",
       "      <td>P.G. Wodehouse</td>\n",
       "      <td>My Man Jeeves (Jeeves, #1)</td>\n",
       "      <td>4.09</td>\n",
       "      <td>36128</td>\n",
       "      <td>256.0</td>\n",
       "      <td>1919</td>\n",
       "      <td>True</td>\n",
       "    </tr>\n",
       "    <tr>\n",
       "      <th>2399</th>\n",
       "      <td>Sherrilyn Kenyon</td>\n",
       "      <td>Night Embrace (Dark-Hunter, #2)</td>\n",
       "      <td>4.23</td>\n",
       "      <td>56727</td>\n",
       "      <td>408.0</td>\n",
       "      <td>2003</td>\n",
       "      <td>True</td>\n",
       "    </tr>\n",
       "  </tbody>\n",
       "</table>\n",
       "<p>2400 rows × 7 columns</p>\n",
       "</div>"
      ],
      "text/plain": [
       "                 avtor                                             naslov  \\\n",
       "id                                                                          \n",
       "1      Suzanne Collins            The Hunger Games (The Hunger Games, #1)   \n",
       "2         J.K. Rowling  Harry Potter and the Order of the Phoenix (Har...   \n",
       "3           Harper Lee                              To Kill a Mockingbird   \n",
       "4          Jane Austen                                Pride and Prejudice   \n",
       "5      Stephenie Meyer                            Twilight (Twilight, #1)   \n",
       "...                ...                                                ...   \n",
       "2394    Colleen Hoover                      Never Never (Never Never, #1)   \n",
       "2397      Brandon Mull          Keys to the Demon Prison (Fablehaven, #5)   \n",
       "2397       Tana French             The Likeness (Dublin Murder Squad, #2)   \n",
       "2399    P.G. Wodehouse                         My Man Jeeves (Jeeves, #1)   \n",
       "2399  Sherrilyn Kenyon                    Night Embrace (Dark-Hunter, #2)   \n",
       "\n",
       "      ocena  glasovi  strani  leto  serija  \n",
       "id                                          \n",
       "1      4.32  6589817   374.0  2008    True  \n",
       "2      4.50  2608155   870.0  2003    True  \n",
       "3      4.28  4673257   324.0  1960   False  \n",
       "4      4.27  3108362   279.0  1813   False  \n",
       "5      3.61  5131640   501.0  2005    True  \n",
       "...     ...      ...     ...   ...     ...  \n",
       "2394   4.06    72574   300.0  2015    True  \n",
       "2397   4.44    71900   593.0  2010    True  \n",
       "2397   4.05   132533   466.0  2008    True  \n",
       "2399   4.09    36128   256.0  1919    True  \n",
       "2399   4.23    56727   408.0  2003    True  \n",
       "\n",
       "[2400 rows x 7 columns]"
      ]
     },
     "execution_count": 3,
     "metadata": {},
     "output_type": "execute_result"
    }
   ],
   "source": [
    "knjige"
   ]
  },
  {
   "cell_type": "markdown",
   "metadata": {},
   "source": [
    "## 1. osnovni podatki\n",
    "\n",
    "Najprej poglejmo, kakšno je povprečje glasov, strani in ocen, da bomo kasneje lažje ocenili, kako rezultati odstopajo od povprečja. Poglejmo tudi maksimalne in minimalne vrednosti."
   ]
  },
  {
   "cell_type": "code",
   "execution_count": 10,
   "metadata": {},
   "outputs": [
    {
     "data": {
      "text/plain": [
       "ocena           4.07\n",
       "glasovi    230770.65\n",
       "strani        417.38\n",
       "dtype: float64"
      ]
     },
     "execution_count": 10,
     "metadata": {},
     "output_type": "execute_result"
    }
   ],
   "source": [
    "round(knjige[['ocena', 'glasovi', 'strani']].mean(), 2)"
   ]
  },
  {
   "cell_type": "code",
   "execution_count": 11,
   "metadata": {},
   "outputs": [
    {
     "data": {
      "text/plain": [
       "ocena            4.82\n",
       "glasovi    7362544.00\n",
       "strani        5216.00\n",
       "dtype: float64"
      ]
     },
     "execution_count": 11,
     "metadata": {},
     "output_type": "execute_result"
    }
   ],
   "source": [
    "knjige[['ocena', 'glasovi', 'strani']].max()"
   ]
  },
  {
   "cell_type": "markdown",
   "metadata": {},
   "source": [
    "Največje število strani se nam zdi previsoko. Preverimo katere knjige imajo zelo visoko število strani."
   ]
  },
  {
   "cell_type": "code",
   "execution_count": 44,
   "metadata": {},
   "outputs": [
    {
     "data": {
      "text/html": [
       "<div>\n",
       "<style scoped>\n",
       "    .dataframe tbody tr th:only-of-type {\n",
       "        vertical-align: middle;\n",
       "    }\n",
       "\n",
       "    .dataframe tbody tr th {\n",
       "        vertical-align: top;\n",
       "    }\n",
       "\n",
       "    .dataframe thead th {\n",
       "        text-align: right;\n",
       "    }\n",
       "</style>\n",
       "<table border=\"1\" class=\"dataframe\">\n",
       "  <thead>\n",
       "    <tr style=\"text-align: right;\">\n",
       "      <th></th>\n",
       "      <th>avtor</th>\n",
       "      <th>naslov</th>\n",
       "      <th>ocena</th>\n",
       "      <th>glasovi</th>\n",
       "      <th>strani</th>\n",
       "      <th>leto</th>\n",
       "      <th>serija</th>\n",
       "    </tr>\n",
       "    <tr>\n",
       "      <th>id</th>\n",
       "      <th></th>\n",
       "      <th></th>\n",
       "      <th></th>\n",
       "      <th></th>\n",
       "      <th></th>\n",
       "      <th></th>\n",
       "      <th></th>\n",
       "    </tr>\n",
       "  </thead>\n",
       "  <tbody>\n",
       "    <tr>\n",
       "      <th>9</th>\n",
       "      <td>J.R.R. Tolkien</td>\n",
       "      <td>J.R.R. Tolkien 4-Book Boxed Set: The Hobbit an...</td>\n",
       "      <td>4.60</td>\n",
       "      <td>113229</td>\n",
       "      <td>1728.0</td>\n",
       "      <td>1955</td>\n",
       "      <td>False</td>\n",
       "    </tr>\n",
       "    <tr>\n",
       "      <th>144</th>\n",
       "      <td>Laura Ingalls Wilder</td>\n",
       "      <td>The Little House Collection (Little House, #1-9)</td>\n",
       "      <td>4.34</td>\n",
       "      <td>143786</td>\n",
       "      <td>2700.0</td>\n",
       "      <td>1971</td>\n",
       "      <td>True</td>\n",
       "    </tr>\n",
       "    <tr>\n",
       "      <th>286</th>\n",
       "      <td>Arthur Conan Doyle</td>\n",
       "      <td>The Complete Sherlock Holmes</td>\n",
       "      <td>4.47</td>\n",
       "      <td>179722</td>\n",
       "      <td>1796.0</td>\n",
       "      <td>1927</td>\n",
       "      <td>False</td>\n",
       "    </tr>\n",
       "    <tr>\n",
       "      <th>409</th>\n",
       "      <td>J.K. Rowling</td>\n",
       "      <td>Harry Potter Series Box Set (Harry Potter, #1-7)</td>\n",
       "      <td>4.72</td>\n",
       "      <td>258358</td>\n",
       "      <td>4100.0</td>\n",
       "      <td>2007</td>\n",
       "      <td>True</td>\n",
       "    </tr>\n",
       "    <tr>\n",
       "      <th>480</th>\n",
       "      <td>Stephenie Meyer</td>\n",
       "      <td>The Twilight Collection (Twilight, #1-3)</td>\n",
       "      <td>3.80</td>\n",
       "      <td>44105</td>\n",
       "      <td>1690.0</td>\n",
       "      <td>2007</td>\n",
       "      <td>True</td>\n",
       "    </tr>\n",
       "    <tr>\n",
       "      <th>921</th>\n",
       "      <td>Robert Musil</td>\n",
       "      <td>The Man Without Qualities</td>\n",
       "      <td>4.23</td>\n",
       "      <td>5760</td>\n",
       "      <td>1774.0</td>\n",
       "      <td>1930</td>\n",
       "      <td>False</td>\n",
       "    </tr>\n",
       "    <tr>\n",
       "      <th>1107</th>\n",
       "      <td>L.M. Montgomery</td>\n",
       "      <td>The Complete Anne of Green Gables Boxed Set (A...</td>\n",
       "      <td>4.44</td>\n",
       "      <td>101739</td>\n",
       "      <td>2088.0</td>\n",
       "      <td>1908</td>\n",
       "      <td>True</td>\n",
       "    </tr>\n",
       "    <tr>\n",
       "      <th>1133</th>\n",
       "      <td>E.L. James</td>\n",
       "      <td>Fifty Shades Trilogy (Fifty Shades, #1-3)</td>\n",
       "      <td>4.11</td>\n",
       "      <td>115162</td>\n",
       "      <td>1859.0</td>\n",
       "      <td>2005</td>\n",
       "      <td>True</td>\n",
       "    </tr>\n",
       "    <tr>\n",
       "      <th>1319</th>\n",
       "      <td>Christopher Paolini</td>\n",
       "      <td>Eragon, Eldest &amp;amp; Brisingr (Inheritance, #1-3)</td>\n",
       "      <td>4.23</td>\n",
       "      <td>32537</td>\n",
       "      <td>1952.0</td>\n",
       "      <td>2008</td>\n",
       "      <td>True</td>\n",
       "    </tr>\n",
       "    <tr>\n",
       "      <th>1600</th>\n",
       "      <td>Marcel Proust</td>\n",
       "      <td>In Search of Lost Time (6 Volumes)</td>\n",
       "      <td>4.35</td>\n",
       "      <td>10145</td>\n",
       "      <td>4211.0</td>\n",
       "      <td>1927</td>\n",
       "      <td>False</td>\n",
       "    </tr>\n",
       "    <tr>\n",
       "      <th>1694</th>\n",
       "      <td>George R.R. Martin</td>\n",
       "      <td>A Song of Ice and Fire (A Song of Ice and Fire...</td>\n",
       "      <td>4.55</td>\n",
       "      <td>55028</td>\n",
       "      <td>5216.0</td>\n",
       "      <td>2000</td>\n",
       "      <td>True</td>\n",
       "    </tr>\n",
       "    <tr>\n",
       "      <th>1773</th>\n",
       "      <td>William L. Shirer</td>\n",
       "      <td>The Rise and Fall of the Third Reich: A Histor...</td>\n",
       "      <td>4.16</td>\n",
       "      <td>106215</td>\n",
       "      <td>1614.0</td>\n",
       "      <td>1960</td>\n",
       "      <td>False</td>\n",
       "    </tr>\n",
       "    <tr>\n",
       "      <th>2008</th>\n",
       "      <td>Shelby Foote</td>\n",
       "      <td>The Civil War: A Narrative</td>\n",
       "      <td>4.53</td>\n",
       "      <td>7029</td>\n",
       "      <td>2934.0</td>\n",
       "      <td>1963</td>\n",
       "      <td>False</td>\n",
       "    </tr>\n",
       "    <tr>\n",
       "      <th>2334</th>\n",
       "      <td>J.K. Rowling</td>\n",
       "      <td>Harry Potter Collection (Harry Potter, #1-6)</td>\n",
       "      <td>4.73</td>\n",
       "      <td>31187</td>\n",
       "      <td>3342.0</td>\n",
       "      <td>2005</td>\n",
       "      <td>True</td>\n",
       "    </tr>\n",
       "    <tr>\n",
       "      <th>2385</th>\n",
       "      <td>Eliezer Yudkowsky</td>\n",
       "      <td>Harry Potter and the Methods of Rationality</td>\n",
       "      <td>4.39</td>\n",
       "      <td>13957</td>\n",
       "      <td>2184.0</td>\n",
       "      <td>2015</td>\n",
       "      <td>False</td>\n",
       "    </tr>\n",
       "  </tbody>\n",
       "</table>\n",
       "</div>"
      ],
      "text/plain": [
       "                     avtor                                             naslov  \\\n",
       "id                                                                              \n",
       "9           J.R.R. Tolkien  J.R.R. Tolkien 4-Book Boxed Set: The Hobbit an...   \n",
       "144   Laura Ingalls Wilder   The Little House Collection (Little House, #1-9)   \n",
       "286     Arthur Conan Doyle                       The Complete Sherlock Holmes   \n",
       "409           J.K. Rowling   Harry Potter Series Box Set (Harry Potter, #1-7)   \n",
       "480        Stephenie Meyer           The Twilight Collection (Twilight, #1-3)   \n",
       "921           Robert Musil                          The Man Without Qualities   \n",
       "1107       L.M. Montgomery  The Complete Anne of Green Gables Boxed Set (A...   \n",
       "1133            E.L. James          Fifty Shades Trilogy (Fifty Shades, #1-3)   \n",
       "1319   Christopher Paolini  Eragon, Eldest &amp; Brisingr (Inheritance, #1-3)   \n",
       "1600         Marcel Proust                 In Search of Lost Time (6 Volumes)   \n",
       "1694    George R.R. Martin  A Song of Ice and Fire (A Song of Ice and Fire...   \n",
       "1773     William L. Shirer  The Rise and Fall of the Third Reich: A Histor...   \n",
       "2008          Shelby Foote                         The Civil War: A Narrative   \n",
       "2334          J.K. Rowling       Harry Potter Collection (Harry Potter, #1-6)   \n",
       "2385     Eliezer Yudkowsky        Harry Potter and the Methods of Rationality   \n",
       "\n",
       "      ocena  glasovi  strani  leto  serija  \n",
       "id                                          \n",
       "9      4.60   113229  1728.0  1955   False  \n",
       "144    4.34   143786  2700.0  1971    True  \n",
       "286    4.47   179722  1796.0  1927   False  \n",
       "409    4.72   258358  4100.0  2007    True  \n",
       "480    3.80    44105  1690.0  2007    True  \n",
       "921    4.23     5760  1774.0  1930   False  \n",
       "1107   4.44   101739  2088.0  1908    True  \n",
       "1133   4.11   115162  1859.0  2005    True  \n",
       "1319   4.23    32537  1952.0  2008    True  \n",
       "1600   4.35    10145  4211.0  1927   False  \n",
       "1694   4.55    55028  5216.0  2000    True  \n",
       "1773   4.16   106215  1614.0  1960   False  \n",
       "2008   4.53     7029  2934.0  1963   False  \n",
       "2334   4.73    31187  3342.0  2005    True  \n",
       "2385   4.39    13957  2184.0  2015   False  "
      ]
     },
     "execution_count": 44,
     "metadata": {},
     "output_type": "execute_result"
    }
   ],
   "source": [
    "knjige[(knjige.strani > 1600)]"
   ]
  },
  {
   "cell_type": "markdown",
   "metadata": {},
   "source": [
    "Število strani je tako visoko, ker je v enem naslovu združena cela serija knjig. Teh knjig v prihodnje ne bomo obravnavali, saj imamo knjige iz serij zabeležene tudi posamično."
   ]
  },
  {
   "cell_type": "code",
   "execution_count": 12,
   "metadata": {},
   "outputs": [
    {
     "data": {
      "text/plain": [
       "ocena       3.11\n",
       "glasovi    38.00\n",
       "strani      0.00\n",
       "dtype: float64"
      ]
     },
     "execution_count": 12,
     "metadata": {},
     "output_type": "execute_result"
    }
   ],
   "source": [
    "knjige[['ocena', 'glasovi', 'strani']].min()"
   ]
  },
  {
   "cell_type": "markdown",
   "metadata": {},
   "source": [
    "Zmoti nas, da imajo nekatere knjige 0 strani. To se je zgodilo, ker nekatere knjige na spletni strani nimajo zabeleženega števila strani. Preverimo, koliko je takih knjig."
   ]
  },
  {
   "cell_type": "code",
   "execution_count": 19,
   "metadata": {},
   "outputs": [
    {
     "data": {
      "text/html": [
       "<div>\n",
       "<style scoped>\n",
       "    .dataframe tbody tr th:only-of-type {\n",
       "        vertical-align: middle;\n",
       "    }\n",
       "\n",
       "    .dataframe tbody tr th {\n",
       "        vertical-align: top;\n",
       "    }\n",
       "\n",
       "    .dataframe thead th {\n",
       "        text-align: right;\n",
       "    }\n",
       "</style>\n",
       "<table border=\"1\" class=\"dataframe\">\n",
       "  <thead>\n",
       "    <tr style=\"text-align: right;\">\n",
       "      <th></th>\n",
       "      <th>avtor</th>\n",
       "      <th>naslov</th>\n",
       "      <th>ocena</th>\n",
       "      <th>glasovi</th>\n",
       "      <th>strani</th>\n",
       "      <th>leto</th>\n",
       "      <th>serija</th>\n",
       "    </tr>\n",
       "    <tr>\n",
       "      <th>id</th>\n",
       "      <th></th>\n",
       "      <th></th>\n",
       "      <th></th>\n",
       "      <th></th>\n",
       "      <th></th>\n",
       "      <th></th>\n",
       "      <th></th>\n",
       "    </tr>\n",
       "  </thead>\n",
       "  <tbody>\n",
       "    <tr>\n",
       "      <th>1503</th>\n",
       "      <td>Ayn Rand</td>\n",
       "      <td>Atlas Shrugged &amp;amp; The Fountainhead</td>\n",
       "      <td>4.1</td>\n",
       "      <td>4575</td>\n",
       "      <td>0.0</td>\n",
       "      <td>1995</td>\n",
       "      <td>False</td>\n",
       "    </tr>\n",
       "  </tbody>\n",
       "</table>\n",
       "</div>"
      ],
      "text/plain": [
       "         avtor                                 naslov  ocena  glasovi  strani  \\\n",
       "id                                                                              \n",
       "1503  Ayn Rand  Atlas Shrugged &amp; The Fountainhead    4.1     4575     0.0   \n",
       "\n",
       "      leto  serija  \n",
       "id                  \n",
       "1503  1995   False  "
      ]
     },
     "execution_count": 19,
     "metadata": {},
     "output_type": "execute_result"
    }
   ],
   "source": [
    "knjige[(knjige.strani == 0)]"
   ]
  },
  {
   "cell_type": "markdown",
   "metadata": {},
   "source": [
    "Dodatno prefiltriramo podatke."
   ]
  },
  {
   "cell_type": "code",
   "execution_count": 5,
   "metadata": {},
   "outputs": [],
   "source": [
    "knjige = knjige[(knjige.strani > 0) & (knjige.strani < 1600)]"
   ]
  },
  {
   "cell_type": "markdown",
   "metadata": {},
   "source": [
    "Sedaj se lotimo prvega vprašanja. Kateri avtor je najbolj priljubljen. Preverili bomo torej, kateri avtor se je na seznamu pojavil največkrat. Predpostavimo, da je to Stephen King, saj ima dolgoletno kariero, širok opus, veliko njegovih del pa je bilo adaptiranih za film, kar je njegova dela spoznalo še s širšim občinstvom."
   ]
  },
  {
   "cell_type": "code",
   "execution_count": 59,
   "metadata": {},
   "outputs": [
    {
     "data": {
      "text/plain": [
       "avtor\n",
       "Stephen King           34\n",
       "Terry Pratchett        22\n",
       "Rick Riordan           19\n",
       "Nicholas Sparks        17\n",
       "William Shakespeare    16\n",
       "dtype: int64"
      ]
     },
     "execution_count": 59,
     "metadata": {},
     "output_type": "execute_result"
    }
   ],
   "source": [
    "po_avtorjih = knjige.groupby('avtor')\n",
    "po_avtorjih.size().sort_values(ascending=False).head(5)"
   ]
  },
  {
   "cell_type": "markdown",
   "metadata": {},
   "source": [
    "Rezultat ni presenetljiv. Vsi avtorji so napisali ogromno knjig, ki so bile v veliko primerih upodobljene v film."
   ]
  },
  {
   "cell_type": "markdown",
   "metadata": {},
   "source": [
    "Preverimo še katere knjige so najbolj popularne, torej katerih pet knjig ima največ glasov."
   ]
  },
  {
   "cell_type": "code",
   "execution_count": 7,
   "metadata": {},
   "outputs": [
    {
     "data": {
      "text/html": [
       "<div>\n",
       "<style scoped>\n",
       "    .dataframe tbody tr th:only-of-type {\n",
       "        vertical-align: middle;\n",
       "    }\n",
       "\n",
       "    .dataframe tbody tr th {\n",
       "        vertical-align: top;\n",
       "    }\n",
       "\n",
       "    .dataframe thead th {\n",
       "        text-align: right;\n",
       "    }\n",
       "</style>\n",
       "<table border=\"1\" class=\"dataframe\">\n",
       "  <thead>\n",
       "    <tr style=\"text-align: right;\">\n",
       "      <th></th>\n",
       "      <th>avtor</th>\n",
       "      <th>naslov</th>\n",
       "      <th>glasovi</th>\n",
       "    </tr>\n",
       "    <tr>\n",
       "      <th>id</th>\n",
       "      <th></th>\n",
       "      <th></th>\n",
       "      <th></th>\n",
       "    </tr>\n",
       "  </thead>\n",
       "  <tbody>\n",
       "    <tr>\n",
       "      <th>30</th>\n",
       "      <td>J.K. Rowling</td>\n",
       "      <td>Harry Potter and the Sorcerer's Stone (Harry P...</td>\n",
       "      <td>7362544</td>\n",
       "    </tr>\n",
       "    <tr>\n",
       "      <th>1</th>\n",
       "      <td>Suzanne Collins</td>\n",
       "      <td>The Hunger Games (The Hunger Games, #1)</td>\n",
       "      <td>6589817</td>\n",
       "    </tr>\n",
       "    <tr>\n",
       "      <th>5</th>\n",
       "      <td>Stephenie Meyer</td>\n",
       "      <td>Twilight (Twilight, #1)</td>\n",
       "      <td>5131640</td>\n",
       "    </tr>\n",
       "    <tr>\n",
       "      <th>3</th>\n",
       "      <td>Harper Lee</td>\n",
       "      <td>To Kill a Mockingbird</td>\n",
       "      <td>4673257</td>\n",
       "    </tr>\n",
       "    <tr>\n",
       "      <th>27</th>\n",
       "      <td>F. Scott Fitzgerald</td>\n",
       "      <td>The Great Gatsby</td>\n",
       "      <td>3914125</td>\n",
       "    </tr>\n",
       "  </tbody>\n",
       "</table>\n",
       "</div>"
      ],
      "text/plain": [
       "                  avtor                                             naslov  \\\n",
       "id                                                                           \n",
       "30         J.K. Rowling  Harry Potter and the Sorcerer's Stone (Harry P...   \n",
       "1       Suzanne Collins            The Hunger Games (The Hunger Games, #1)   \n",
       "5       Stephenie Meyer                            Twilight (Twilight, #1)   \n",
       "3            Harper Lee                              To Kill a Mockingbird   \n",
       "27  F. Scott Fitzgerald                                   The Great Gatsby   \n",
       "\n",
       "    glasovi  \n",
       "id           \n",
       "30  7362544  \n",
       "1   6589817  \n",
       "5   5131640  \n",
       "3   4673257  \n",
       "27  3914125  "
      ]
     },
     "execution_count": 7,
     "metadata": {},
     "output_type": "execute_result"
    }
   ],
   "source": [
    "knjige[['avtor', 'naslov', 'glasovi']].sort_values('glasovi', ascending=False).head(5)"
   ]
  },
  {
   "cell_type": "markdown",
   "metadata": {},
   "source": [
    "Vidimo, da so v vrhu popularne serije 21. stoletja, najdemo pa tudi nekatere ameriške klasike. To nam da občutek, da so uporabniki v večini mladi in da prihajajo iz angleško govorečih držav."
   ]
  },
  {
   "cell_type": "markdown",
   "metadata": {},
   "source": [
    "## 2. Analiza gledo na leto"
   ]
  },
  {
   "cell_type": "markdown",
   "metadata": {},
   "source": [
    "Sprva bomo v razpredelnico dodali dva dodatna stolpca, v katerem stoletju in v katerem desetletju je bila knjiga izdana. Ker smo analizirali zgolj 2400 knjig bodo tako rezultati bolj pregledni. Nato bomo preverili v katerem stoletju in katerem desetletju so najpopularnejše knjige."
   ]
  },
  {
   "cell_type": "code",
   "execution_count": 14,
   "metadata": {},
   "outputs": [
    {
     "data": {
      "text/plain": [
       "<AxesSubplot:xlabel='stoletje', ylabel='stevilo knjig'>"
      ]
     },
     "execution_count": 14,
     "metadata": {},
     "output_type": "execute_result"
    },
    {
     "data": {
      "image/png": "[encoded data removed]",
      "text/plain": [
       "<Figure size 432x288 with 1 Axes>"
      ]
     },
     "metadata": {
      "needs_background": "light"
     },
     "output_type": "display_data"
    }
   ],
   "source": [
    "knjige['stoletje'] = (knjige.leto // 100) + 1\n",
    "knjige['desetletje'] = 10 * (knjige.leto // 10)\n",
    "knjige.groupby('stoletje').size(\n",
    ").plot.bar(\n",
    "x='stoletje', y='stevilo knjig', xlabel='stoletje',ylabel='stevilo knjig')"
   ]
  },
  {
   "cell_type": "markdown",
   "metadata": {},
   "source": [
    "Opazimo, da je glavnina \"najboljših\" knjig izšla v zadnjih stotih letih. To ni presenetljivo, saj spletno stran v večini uporabljajo amaterski bralci, ki pretežno berejo trenutno priljubljene knjige, prav tako pa bilo v tem obdobju izdano več knjig kot kadar koli prej. Kasneje bomo tudi preverili, kako dobro je na strani ocenjena \"klasična\" literatura in kako pogosto je brana. Preverimo še, katera desetletja so najpopularnejša. Na podlagi prejšnih rezultatov se omejimo zgolj na 20. in 21. stoletje. Pričakujemo da bo največ knjig iz leta 2000 in 2010, saj pred tem spletna stran še ni obstajala."
   ]
  },
  {
   "cell_type": "code",
   "execution_count": 13,
   "metadata": {},
   "outputs": [
    {
     "data": {
      "text/plain": [
       "<AxesSubplot:xlabel='desetletje', ylabel='stevilo knjig'>"
      ]
     },
     "execution_count": 13,
     "metadata": {},
     "output_type": "execute_result"
    },
    {
     "data": {
      "image/png": "[encoded data removed]",
      "text/plain": [
       "<Figure size 432x288 with 1 Axes>"
      ]
     },
     "metadata": {
      "needs_background": "light"
     },
     "output_type": "display_data"
    }
   ],
   "source": [
    "knjige_19_20 = knjige[(knjige.stoletje >= 20)]\n",
    "knjige_19_20.groupby('desetletje').size(\n",
    ").plot.bar(\n",
    "x='desetletje', y='stevilo knjig', xlabel='desetletje',ylabel='stevilo knjig')"
   ]
  },
  {
   "cell_type": "markdown",
   "metadata": {},
   "source": [
    "Rezultat ni presenetljiv. Sedaj pa preverimo še, če je tudi kvaliteta knjig naraščala skozi stoletja."
   ]
  },
  {
   "cell_type": "code",
   "execution_count": 12,
   "metadata": {},
   "outputs": [
    {
     "data": {
      "text/plain": [
       "(3.5, 4.3)"
      ]
     },
     "execution_count": 12,
     "metadata": {},
     "output_type": "execute_result"
    },
    {
     "data": {
      "image/png": "[encoded data removed]",
      "text/plain": [
       "<Figure size 432x288 with 1 Axes>"
      ]
     },
     "metadata": {
      "needs_background": "light"
     },
     "output_type": "display_data"
    }
   ],
   "source": [
    "knjige[\n",
    "    (knjige.stoletje > 15)\n",
    "].groupby(\n",
    "    'stoletje'\n",
    ").ocena.mean(\n",
    ").plot(x='stoletje', y='ocena', xlabel='stoletje',ylabel='ocena'\n",
    ").set_ylim(3.5, 4.3)"
   ]
  },
  {
   "cell_type": "markdown",
   "metadata": {},
   "source": [
    "Ugotovimo, da kvaliteta skozi leta ni strogo naraščala, opazimo pa, da sta 16. in 18. stoletje nekoliko manj priljubljeni. To je lahko posledica številnih obveznih domačih branj renesančnih, romantičnih in realističnih del, ki jih v sklopu šolanja beremo skoraj vsi narodi. Ni pa popolnoma jasno, zakaj je 17. stoletje toliko bolj priljubljeno."
   ]
  },
  {
   "cell_type": "markdown",
   "metadata": {},
   "source": [
    "## 2. Popularnost serij\n",
    "\n",
    "V tem delu se bomo posvetili knjigam, ki so del neke serije. Včasih so vse romane izdajali po delih (navadno po poglavjih) v raznih časopisih, tako da so bili vsi v nekem pogledu serije. Tu pa bomo analizirali serije, katerih posamezni deli so samostojne knjige (ki so lahko med seboj vsebinsko povezane). Predpostavljamo, da so take knjige skozi desetletja naraščale."
   ]
  },
  {
   "cell_type": "code",
   "execution_count": 15,
   "metadata": {},
   "outputs": [
    {
     "data": {
      "text/plain": [
       "<AxesSubplot:title={'center':'Ali je del serije?'}, ylabel='None'>"
      ]
     },
     "execution_count": 15,
     "metadata": {},
     "output_type": "execute_result"
    },
    {
     "data": {
      "image/png": "[encoded data removed]",
      "text/plain": [
       "<Figure size 432x288 with 1 Axes>"
      ]
     },
     "metadata": {},
     "output_type": "display_data"
    }
   ],
   "source": [
    "knjige.groupby('serija').size().plot.pie(title=('Ali je del serije?'))"
   ]
  },
  {
   "cell_type": "markdown",
   "metadata": {},
   "source": [
    "Vidimo, da so serije precej popularne. Predstavljajo skoraj polovico vseh najbolših knjig. Najprej bomo preverili, če so se serije sploh pojavljale pred 20. stoletjem."
   ]
  },
  {
   "cell_type": "code",
   "execution_count": 78,
   "metadata": {},
   "outputs": [
    {
     "data": {
      "text/plain": [
       "stoletje\n",
       "5       2\n",
       "18      1\n",
       "19     11\n",
       "20    290\n",
       "21    765\n",
       "dtype: int64"
      ]
     },
     "execution_count": 78,
     "metadata": {},
     "output_type": "execute_result"
    }
   ],
   "source": [
    "knjige[(knjige.serija)].groupby('stoletje').size()"
   ]
  },
  {
   "cell_type": "markdown",
   "metadata": {},
   "source": [
    "Kot smo pričakovali, se pred 19. stoletjem serije skoraj niso pojavljale. Sedaj nas zanima, kako se je število serij večalo skozi desetletja."
   ]
  },
  {
   "cell_type": "code",
   "execution_count": 81,
   "metadata": {},
   "outputs": [
    {
     "data": {
      "text/plain": [
       "<AxesSubplot:xlabel='desetletje'>"
      ]
     },
     "execution_count": 81,
     "metadata": {},
     "output_type": "execute_result"
    },
    {
     "data": {
      "image/png": "[encoded data removed]",
      "text/plain": [
       "<Figure size 432x288 with 1 Axes>"
      ]
     },
     "metadata": {
      "needs_background": "light"
     },
     "output_type": "display_data"
    }
   ],
   "source": [
    "knjige_19_20[(knjige_19_20.serija)].groupby('desetletje').size().plot()"
   ]
  },
  {
   "cell_type": "markdown",
   "metadata": {},
   "source": [
    "Serije so zares popularne šele zadnjih trideset let. Leta 2020 je padec tako strm, ker se je desetletje šele začelo."
   ]
  },
  {
   "cell_type": "markdown",
   "metadata": {},
   "source": [
    "## 3. število strani\n",
    "\n",
    "Na začetku smo ugotovili, da je imajo knjige s seznama povprečno okoli 400 strani. Predpostavimo, da imajo knjige z več stranmi boljšo oceno. Sama bi namreč dolgo knjigo prebrala le v primeru, ko bi pričakovala, da mi bo všeč, pri kratkih knjigah pa se pustim tudi presenetiti."
   ]
  },
  {
   "cell_type": "code",
   "execution_count": 82,
   "metadata": {},
   "outputs": [
    {
     "data": {
      "text/plain": [
       "<AxesSubplot:xlabel='strani', ylabel='ocena'>"
      ]
     },
     "execution_count": 82,
     "metadata": {},
     "output_type": "execute_result"
    },
    {
     "data": {
      "image/png": "[encoded data removed]",
      "text/plain": [
       "<Figure size 432x288 with 1 Axes>"
      ]
     },
     "metadata": {
      "needs_background": "light"
     },
     "output_type": "display_data"
    }
   ],
   "source": [
    "knjige.plot.scatter('strani', 'ocena')"
   ]
  },
  {
   "cell_type": "markdown",
   "metadata": {},
   "source": [
    "Ugotovimo, da je res največji razpon ocen pri kratkih knjigah, dolge pa so praviloma tudi dobro ocenjene. Za lastne potrebe bom perverila še, katere so najboljše knjige, ki imajo manj kot sto strani, vendar vsaj 100000 glasov."
   ]
  },
  {
   "cell_type": "code",
   "execution_count": 19,
   "metadata": {},
   "outputs": [
    {
     "data": {
      "text/html": [
       "<div>\n",
       "<style scoped>\n",
       "    .dataframe tbody tr th:only-of-type {\n",
       "        vertical-align: middle;\n",
       "    }\n",
       "\n",
       "    .dataframe tbody tr th {\n",
       "        vertical-align: top;\n",
       "    }\n",
       "\n",
       "    .dataframe thead th {\n",
       "        text-align: right;\n",
       "    }\n",
       "</style>\n",
       "<table border=\"1\" class=\"dataframe\">\n",
       "  <thead>\n",
       "    <tr style=\"text-align: right;\">\n",
       "      <th></th>\n",
       "      <th>avtor</th>\n",
       "      <th>naslov</th>\n",
       "      <th>ocena</th>\n",
       "      <th>glasovi</th>\n",
       "      <th>strani</th>\n",
       "      <th>leto</th>\n",
       "      <th>serija</th>\n",
       "      <th>stoletje</th>\n",
       "      <th>desetletje</th>\n",
       "    </tr>\n",
       "    <tr>\n",
       "      <th>id</th>\n",
       "      <th></th>\n",
       "      <th></th>\n",
       "      <th></th>\n",
       "      <th></th>\n",
       "      <th></th>\n",
       "      <th></th>\n",
       "      <th></th>\n",
       "      <th></th>\n",
       "      <th></th>\n",
       "    </tr>\n",
       "  </thead>\n",
       "  <tbody>\n",
       "    <tr>\n",
       "      <th>324</th>\n",
       "      <td>Jon Stone</td>\n",
       "      <td>The Monster at the End of this Book</td>\n",
       "      <td>4.44</td>\n",
       "      <td>121369</td>\n",
       "      <td>32.0</td>\n",
       "      <td>1971</td>\n",
       "      <td>False</td>\n",
       "      <td>20</td>\n",
       "      <td>1970</td>\n",
       "    </tr>\n",
       "    <tr>\n",
       "      <th>13</th>\n",
       "      <td>Shel Silverstein</td>\n",
       "      <td>The Giving Tree</td>\n",
       "      <td>4.37</td>\n",
       "      <td>934890</td>\n",
       "      <td>64.0</td>\n",
       "      <td>1964</td>\n",
       "      <td>False</td>\n",
       "      <td>20</td>\n",
       "      <td>1960</td>\n",
       "    </tr>\n",
       "    <tr>\n",
       "      <th>1838</th>\n",
       "      <td>Alan Moore</td>\n",
       "      <td>Batman: The Killing Joke</td>\n",
       "      <td>4.37</td>\n",
       "      <td>174297</td>\n",
       "      <td>50.0</td>\n",
       "      <td>1988</td>\n",
       "      <td>False</td>\n",
       "      <td>20</td>\n",
       "      <td>1980</td>\n",
       "    </tr>\n",
       "    <tr>\n",
       "      <th>660</th>\n",
       "      <td>Clement C. Moore</td>\n",
       "      <td>The Night Before Christmas</td>\n",
       "      <td>4.37</td>\n",
       "      <td>112743</td>\n",
       "      <td>32.0</td>\n",
       "      <td>1823</td>\n",
       "      <td>False</td>\n",
       "      <td>19</td>\n",
       "      <td>1820</td>\n",
       "    </tr>\n",
       "    <tr>\n",
       "      <th>2204</th>\n",
       "      <td>Sam McBratney</td>\n",
       "      <td>Guess How Much I Love You</td>\n",
       "      <td>4.36</td>\n",
       "      <td>128735</td>\n",
       "      <td>20.0</td>\n",
       "      <td>1988</td>\n",
       "      <td>False</td>\n",
       "      <td>20</td>\n",
       "      <td>1980</td>\n",
       "    </tr>\n",
       "  </tbody>\n",
       "</table>\n",
       "</div>"
      ],
      "text/plain": [
       "                 avtor                               naslov  ocena  glasovi  \\\n",
       "id                                                                            \n",
       "324          Jon Stone  The Monster at the End of this Book   4.44   121369   \n",
       "13    Shel Silverstein                      The Giving Tree   4.37   934890   \n",
       "1838        Alan Moore             Batman: The Killing Joke   4.37   174297   \n",
       "660   Clement C. Moore           The Night Before Christmas   4.37   112743   \n",
       "2204     Sam McBratney            Guess How Much I Love You   4.36   128735   \n",
       "\n",
       "      strani  leto  serija  stoletje  desetletje  \n",
       "id                                                \n",
       "324     32.0  1971   False        20        1970  \n",
       "13      64.0  1964   False        20        1960  \n",
       "1838    50.0  1988   False        20        1980  \n",
       "660     32.0  1823   False        19        1820  \n",
       "2204    20.0  1988   False        20        1980  "
      ]
     },
     "execution_count": 19,
     "metadata": {},
     "output_type": "execute_result"
    }
   ],
   "source": [
    "knjige[(knjige.strani < 100) & (knjige.glasovi > 100000)].sort_values('ocena', ascending=False).head(5)"
   ]
  },
  {
   "cell_type": "markdown",
   "metadata": {},
   "source": [
    "Preverimo še kakšna je povezava med številom glasov in oceno."
   ]
  },
  {
   "cell_type": "code",
   "execution_count": 18,
   "metadata": {},
   "outputs": [
    {
     "data": {
      "text/plain": [
       "<AxesSubplot:xlabel='glasovi', ylabel='ocena'>"
      ]
     },
     "execution_count": 18,
     "metadata": {},
     "output_type": "execute_result"
    },
    {
     "data": {
      "image/png": "[encoded data removed]",
      "text/plain": [
       "<Figure size 432x288 with 1 Axes>"
      ]
     },
     "metadata": {
      "needs_background": "light"
     },
     "output_type": "display_data"
    }
   ],
   "source": [
    "knjige.plot.scatter('glasovi', 'ocena')"
   ]
  },
  {
   "cell_type": "markdown",
   "metadata": {},
   "source": [
    "Pridemo do zanimivega rezultata. Na začetku smo ugotovili, da je povprečno število glasov okoli 200000, tu pa lahko opazimo, da imajo nekatere knjige veliko več glasov. Te knjige imajo dobro oceno, vendar ne najboljše. Tukaj bi morda pričakovail linearno soodvisnot, vendar očitno priljubljenost nima povezave s kvaliteto knjige."
   ]
  },
  {
   "cell_type": "markdown",
   "metadata": {},
   "source": [
    "## 4. Žanri\n",
    "\n",
    "V zadnjem razdelku bomo preverili, kateri žanri so najbolj priljubljeni in njihovo odvisnost od prejšnih parametrov. Sprva spojimo našo osnovno razpredelnico z razpredelnico žanrov. Za vsako knjigo smo zajeli nekaj žanrov. Poglejmo, koliko razlicnih žanrov smo zajeli. Na spletni strani namreč žanre določijo uporabniki, zato pričakujemo, da bo veliko različnih ter da bodo neobičajno poimenovani. "
   ]
  },
  {
   "cell_type": "code",
   "execution_count": 21,
   "metadata": {},
   "outputs": [
    {
     "data": {
      "text/plain": [
       "282"
      ]
     },
     "execution_count": 21,
     "metadata": {},
     "output_type": "execute_result"
    }
   ],
   "source": [
    "knjige_z_zanri = pd.merge(knjige, zanri, left_on='id', right_on='knjiga')\n",
    "knjige_z_zanri.groupby('zanr').size().count()"
   ]
  },
  {
   "cell_type": "markdown",
   "metadata": {},
   "source": [
    "Za 2400 knjig je skoraj 300 različnih žanrov res veliko. Poglejmo kateri so najbolj in kateri najmanj priljubljeni."
   ]
  },
  {
   "cell_type": "code",
   "execution_count": 22,
   "metadata": {},
   "outputs": [
    {
     "data": {
      "text/plain": [
       "<AxesSubplot:xlabel='žanr', ylabel='število knjig'>"
      ]
     },
     "execution_count": 22,
     "metadata": {},
     "output_type": "execute_result"
    },
    {
     "data": {
      "image/png": "[encoded data removed]",
      "text/plain": [
       "<Figure size 432x288 with 1 Axes>"
      ]
     },
     "metadata": {
      "needs_background": "light"
     },
     "output_type": "display_data"
    }
   ],
   "source": [
    "st_posameznih_zanrov = knjige_z_zanri.groupby('zanr').size()\n",
    "st_posameznih_zanrov.sort_values(ascending=False).head(20).plot.bar(\n",
    "x='žanr', y='število knjig', xlabel='žanr',ylabel='število knjig')"
   ]
  },
  {
   "cell_type": "code",
   "execution_count": 23,
   "metadata": {},
   "outputs": [
    {
     "data": {
      "text/plain": [
       "zanr\n",
       "reverseharem            1\n",
       "tobuynext               1\n",
       "tobuy                   1\n",
       "mustread                1\n",
       "indonesianliterature    1\n",
       "newage                  1\n",
       "buylist                 1\n",
       "c                       1\n",
       "nobelprize              1\n",
       "historicalfantasy       1\n",
       "dtype: int64"
      ]
     },
     "execution_count": 23,
     "metadata": {},
     "output_type": "execute_result"
    }
   ],
   "source": [
    "st_posameznih_zanrov.sort_values().head(10)"
   ]
  },
  {
   "cell_type": "markdown",
   "metadata": {},
   "source": [
    "Vidimo, da so nekateri žanri označeni zgolj enkrat in imajo res absurdna imena. Tudi med najpogostejšimi so oznake nekonsistentne, nekateri pojmi so preveč splošni, na primer \"fikcija\", po drugi strani pa je pojem \"vampirji\" zelo specifičen in je verjetno postal popularen v zadnjem destletju. To lahko hitro preverimo. Sedaj pa se posvetimo žanru \"young adult\", ki je na seznamu med najbolj priljubenimi, še bolj je priljubjen od klasik. Verjamemo, da je tudi ta žanr postal popularen šele v zadnjih dveh desetletjih."
   ]
  },
  {
   "cell_type": "code",
   "execution_count": 56,
   "metadata": {},
   "outputs": [
    {
     "data": {
      "text/plain": [
       "<AxesSubplot:xlabel='desetletje'>"
      ]
     },
     "execution_count": 56,
     "metadata": {},
     "output_type": "execute_result"
    },
    {
     "data": {
      "image/png": "[encoded data removed]",
      "text/plain": [
       "<Figure size 432x288 with 1 Axes>"
      ]
     },
     "metadata": {
      "needs_background": "light"
     },
     "output_type": "display_data"
    }
   ],
   "source": [
    "knjige_z_zanri[(knjige_z_zanri.zanr == 'youngadult') & (knjige_z_zanri.desetletje >= 1900)].groupby(\n",
    "'desetletje').size(\n",
    ").plot()"
   ]
  },
  {
   "cell_type": "markdown",
   "metadata": {},
   "source": [
    "Naša predpostavka je bila pravilna. Verjamemo, da je v primeru klasik graf ravno obraten. Preverimo."
   ]
  },
  {
   "cell_type": "code",
   "execution_count": 26,
   "metadata": {},
   "outputs": [
    {
     "name": "stderr",
     "output_type": "stream",
     "text": [
      "<ipython-input-26-7302019cd204>:2: UserWarning: Boolean Series key will be reindexed to match DataFrame index.\n",
      "  klasike[(knjige_z_zanri.desetletje >= 1900)].groupby(\n"
     ]
    },
    {
     "data": {
      "text/plain": [
       "<AxesSubplot:xlabel='desetletje', ylabel='število knjig'>"
      ]
     },
     "execution_count": 26,
     "metadata": {},
     "output_type": "execute_result"
    },
    {
     "data": {
      "image/png": "[encoded data removed]",
      "text/plain": [
       "<Figure size 432x288 with 1 Axes>"
      ]
     },
     "metadata": {
      "needs_background": "light"
     },
     "output_type": "display_data"
    }
   ],
   "source": [
    "klasike = knjige_z_zanri[(knjige_z_zanri.zanr == 'classics')]\n",
    "klasike[(knjige_z_zanri.desetletje >= 1900)].groupby(\n",
    "    'desetletje').size(\n",
    ").plot.bar(\n",
    "x='desetletje', y='število knjig', xlabel='desetletje',ylabel='število knjig')"
   ]
  },
  {
   "cell_type": "markdown",
   "metadata": {},
   "source": [
    "Rezultati so zelo presenetljvi. Sodeč po uporabnikih spletne strani naj bi bilo v zadnjem desetletju celo več klasik kot v začetku 20. stoletja. Ugotovimo, da je pojem klasike zelo subjektiven. Sama menim, da si oznako klasike zaslužijo tiste knjige, ki pokažejo svojo obstojnost, inovativnost in vplivnost, česar jim ne moramo pripisati tako zgodaj, ampak šele v retrospetkivi. Preverimo katere so najpopularnejše klasike zadnjih desetih let."
   ]
  },
  {
   "cell_type": "code",
   "execution_count": 71,
   "metadata": {},
   "outputs": [
    {
     "data": {
      "text/html": [
       "<div>\n",
       "<style scoped>\n",
       "    .dataframe tbody tr th:only-of-type {\n",
       "        vertical-align: middle;\n",
       "    }\n",
       "\n",
       "    .dataframe tbody tr th {\n",
       "        vertical-align: top;\n",
       "    }\n",
       "\n",
       "    .dataframe thead th {\n",
       "        text-align: right;\n",
       "    }\n",
       "</style>\n",
       "<table border=\"1\" class=\"dataframe\">\n",
       "  <thead>\n",
       "    <tr style=\"text-align: right;\">\n",
       "      <th></th>\n",
       "      <th>avtor</th>\n",
       "      <th>naslov</th>\n",
       "      <th>ocena</th>\n",
       "      <th>glasovi</th>\n",
       "      <th>strani</th>\n",
       "      <th>leto</th>\n",
       "      <th>serija</th>\n",
       "      <th>stoletje</th>\n",
       "      <th>desetletje</th>\n",
       "      <th>knjiga</th>\n",
       "      <th>zanr</th>\n",
       "    </tr>\n",
       "  </thead>\n",
       "  <tbody>\n",
       "    <tr>\n",
       "      <th>15313</th>\n",
       "      <td>Celeste Ng</td>\n",
       "      <td>Little Fires Everywhere</td>\n",
       "      <td>4.10</td>\n",
       "      <td>784631</td>\n",
       "      <td>368.0</td>\n",
       "      <td>2017</td>\n",
       "      <td>False</td>\n",
       "      <td>21</td>\n",
       "      <td>2010</td>\n",
       "      <td>2381</td>\n",
       "      <td>classics</td>\n",
       "    </tr>\n",
       "    <tr>\n",
       "      <th>5081</th>\n",
       "      <td>Nicola Yoon</td>\n",
       "      <td>Everything, Everything</td>\n",
       "      <td>4.05</td>\n",
       "      <td>405907</td>\n",
       "      <td>306.0</td>\n",
       "      <td>2015</td>\n",
       "      <td>False</td>\n",
       "      <td>21</td>\n",
       "      <td>2010</td>\n",
       "      <td>1006</td>\n",
       "      <td>classics</td>\n",
       "    </tr>\n",
       "    <tr>\n",
       "      <th>14247</th>\n",
       "      <td>Christina Baker Kline</td>\n",
       "      <td>Orphan Train</td>\n",
       "      <td>4.17</td>\n",
       "      <td>381877</td>\n",
       "      <td>278.0</td>\n",
       "      <td>2013</td>\n",
       "      <td>False</td>\n",
       "      <td>21</td>\n",
       "      <td>2010</td>\n",
       "      <td>2282</td>\n",
       "      <td>classics</td>\n",
       "    </tr>\n",
       "    <tr>\n",
       "      <th>15417</th>\n",
       "      <td>Ashlee Vance</td>\n",
       "      <td>Elon Musk: Tesla, SpaceX, and the Quest for a ...</td>\n",
       "      <td>4.21</td>\n",
       "      <td>260650</td>\n",
       "      <td>392.0</td>\n",
       "      <td>2015</td>\n",
       "      <td>False</td>\n",
       "      <td>21</td>\n",
       "      <td>2010</td>\n",
       "      <td>2390</td>\n",
       "      <td>classics</td>\n",
       "    </tr>\n",
       "    <tr>\n",
       "      <th>15416</th>\n",
       "      <td>Ashlee Vance</td>\n",
       "      <td>Elon Musk: Tesla, SpaceX, and the Quest for a ...</td>\n",
       "      <td>4.21</td>\n",
       "      <td>260650</td>\n",
       "      <td>392.0</td>\n",
       "      <td>2015</td>\n",
       "      <td>False</td>\n",
       "      <td>21</td>\n",
       "      <td>2010</td>\n",
       "      <td>2390</td>\n",
       "      <td>classics</td>\n",
       "    </tr>\n",
       "    <tr>\n",
       "      <th>11752</th>\n",
       "      <td>Fredrik Backman</td>\n",
       "      <td>Beartown (Beartown, #1)</td>\n",
       "      <td>4.25</td>\n",
       "      <td>229600</td>\n",
       "      <td>432.0</td>\n",
       "      <td>2016</td>\n",
       "      <td>True</td>\n",
       "      <td>21</td>\n",
       "      <td>2010</td>\n",
       "      <td>2025</td>\n",
       "      <td>classics</td>\n",
       "    </tr>\n",
       "    <tr>\n",
       "      <th>4424</th>\n",
       "      <td>Tammara Webber</td>\n",
       "      <td>Easy (Contours of the Heart, #1)</td>\n",
       "      <td>4.08</td>\n",
       "      <td>219490</td>\n",
       "      <td>336.0</td>\n",
       "      <td>2012</td>\n",
       "      <td>True</td>\n",
       "      <td>21</td>\n",
       "      <td>2010</td>\n",
       "      <td>879</td>\n",
       "      <td>classics</td>\n",
       "    </tr>\n",
       "    <tr>\n",
       "      <th>8660</th>\n",
       "      <td>Stephen King</td>\n",
       "      <td>Doctor Sleep</td>\n",
       "      <td>4.11</td>\n",
       "      <td>207031</td>\n",
       "      <td>531.0</td>\n",
       "      <td>2013</td>\n",
       "      <td>False</td>\n",
       "      <td>21</td>\n",
       "      <td>2010</td>\n",
       "      <td>1621</td>\n",
       "      <td>classics</td>\n",
       "    </tr>\n",
       "    <tr>\n",
       "      <th>7488</th>\n",
       "      <td>Vanessa Diffenbaugh</td>\n",
       "      <td>The Language of Flowers</td>\n",
       "      <td>4.08</td>\n",
       "      <td>197978</td>\n",
       "      <td>323.0</td>\n",
       "      <td>2011</td>\n",
       "      <td>False</td>\n",
       "      <td>21</td>\n",
       "      <td>2010</td>\n",
       "      <td>1439</td>\n",
       "      <td>classics</td>\n",
       "    </tr>\n",
       "    <tr>\n",
       "      <th>9879</th>\n",
       "      <td>Patti Smith</td>\n",
       "      <td>Just Kids</td>\n",
       "      <td>4.15</td>\n",
       "      <td>189329</td>\n",
       "      <td>304.0</td>\n",
       "      <td>2010</td>\n",
       "      <td>False</td>\n",
       "      <td>21</td>\n",
       "      <td>2010</td>\n",
       "      <td>1802</td>\n",
       "      <td>classics</td>\n",
       "    </tr>\n",
       "  </tbody>\n",
       "</table>\n",
       "</div>"
      ],
      "text/plain": [
       "                       avtor  \\\n",
       "15313             Celeste Ng   \n",
       "5081             Nicola Yoon   \n",
       "14247  Christina Baker Kline   \n",
       "15417           Ashlee Vance   \n",
       "15416           Ashlee Vance   \n",
       "11752        Fredrik Backman   \n",
       "4424          Tammara Webber   \n",
       "8660            Stephen King   \n",
       "7488     Vanessa Diffenbaugh   \n",
       "9879             Patti Smith   \n",
       "\n",
       "                                                  naslov  ocena  glasovi  \\\n",
       "15313                            Little Fires Everywhere   4.10   784631   \n",
       "5081                              Everything, Everything   4.05   405907   \n",
       "14247                                       Orphan Train   4.17   381877   \n",
       "15417  Elon Musk: Tesla, SpaceX, and the Quest for a ...   4.21   260650   \n",
       "15416  Elon Musk: Tesla, SpaceX, and the Quest for a ...   4.21   260650   \n",
       "11752                            Beartown (Beartown, #1)   4.25   229600   \n",
       "4424                    Easy (Contours of the Heart, #1)   4.08   219490   \n",
       "8660                                        Doctor Sleep   4.11   207031   \n",
       "7488                             The Language of Flowers   4.08   197978   \n",
       "9879                                           Just Kids   4.15   189329   \n",
       "\n",
       "       strani  leto  serija  stoletje  desetletje  knjiga      zanr  \n",
       "15313   368.0  2017   False        21        2010    2381  classics  \n",
       "5081    306.0  2015   False        21        2010    1006  classics  \n",
       "14247   278.0  2013   False        21        2010    2282  classics  \n",
       "15417   392.0  2015   False        21        2010    2390  classics  \n",
       "15416   392.0  2015   False        21        2010    2390  classics  \n",
       "11752   432.0  2016    True        21        2010    2025  classics  \n",
       "4424    336.0  2012    True        21        2010     879  classics  \n",
       "8660    531.0  2013   False        21        2010    1621  classics  \n",
       "7488    323.0  2011   False        21        2010    1439  classics  \n",
       "9879    304.0  2010   False        21        2010    1802  classics  "
      ]
     },
     "execution_count": 71,
     "metadata": {},
     "output_type": "execute_result"
    }
   ],
   "source": [
    "klasike[(klasike.desetletje == 2010)].sort_values('glasovi', ascending=False).head(10)"
   ]
  },
  {
   "cell_type": "markdown",
   "metadata": {},
   "source": [
    "Za konec preverimo še, kateri pisatelji so napisali največ klasik. "
   ]
  },
  {
   "cell_type": "code",
   "execution_count": 28,
   "metadata": {},
   "outputs": [
    {
     "data": {
      "text/plain": [
       "<AxesSubplot:xlabel='avtor', ylabel='število knjig'>"
      ]
     },
     "execution_count": 28,
     "metadata": {},
     "output_type": "execute_result"
    },
    {
     "data": {
      "image/png": "[encoded data removed]",
      "text/plain": [
       "<Figure size 432x288 with 1 Axes>"
      ]
     },
     "metadata": {
      "needs_background": "light"
     },
     "output_type": "display_data"
    }
   ],
   "source": [
    "klasike.groupby('avtor').size().sort_values(ascending=False).head(20).plot.bar(\n",
    "xlabel='avtor',ylabel='število knjig')"
   ]
  },
  {
   "cell_type": "markdown",
   "metadata": {},
   "source": [
    "Rezultati niso preveč presenetljivi. Opazimo, da so večinoma angleško govoreči avtorji. Sklepamo, da spletno stran res uporabaljajo pretežno angleško govoreči narodi."
   ]
  }
 ],
 "metadata": {
  "kernelspec": {
   "display_name": "Python 3",
   "language": "python",
   "name": "python3"
  },
  "language_info": {
   "codemirror_mode": {
    "name": "ipython",
    "version": 3
   },
   "file_extension": ".py",
   "mimetype": "text/x-python",
   "name": "python",
   "nbconvert_exporter": "python",
   "pygments_lexer": "ipython3",
   "version": "3.8.1"
  }
 },
 "nbformat": 4,
 "nbformat_minor": 2
}
